{
 "cells": [
  {
   "cell_type": "markdown",
   "metadata": {},
   "source": [
    "# Part I. ETL Pipeline for Pre-Processing the Files"
   ]
  },
  {
   "cell_type": "markdown",
   "metadata": {},
   "source": [
    "## PLEASE RUN THE FOLLOWING CODE FOR PRE-PROCESSING THE FILES"
   ]
  },
  {
   "cell_type": "markdown",
   "metadata": {},
   "source": [
    "#### Import Python packages "
   ]
  },
  {
   "cell_type": "code",
   "execution_count": 1,
   "metadata": {},
   "outputs": [],
   "source": [
    "# Import Python packages \n",
    "from io import StringIO\n",
    "import pandas as pd\n",
    "import cassandra\n",
    "import re\n",
    "import os\n",
    "import glob\n",
    "import numpy as np\n",
    "import json\n",
    "import csv"
   ]
  },
  {
   "cell_type": "markdown",
   "metadata": {},
   "source": [
    "#### Creating list of filepaths to process original event csv data files"
   ]
  },
  {
   "cell_type": "code",
   "execution_count": 2,
   "metadata": {},
   "outputs": [
    {
     "name": "stdout",
     "output_type": "stream",
     "text": [
      "/home/woox/Develop/datadiver-cassandra/src\n"
     ]
    }
   ],
   "source": [
    "# checking your current working directory\n",
    "print(os.getcwd())\n",
    "\n",
    "# Get your current folder and subfolder event data\n",
    "#filepath = os.getcwd() + 'event_data'\n",
    "filepath = os.path.abspath(os.curdir + '/../') + '/data/event_data'\n",
    "\n",
    "# Create a for loop to create a list of files and collect each filepath\n",
    "for root, dirs, files in os.walk(filepath):\n",
    "    \n",
    "# join the file path and roots with the subdirectories using glob\n",
    "    file_path_list = glob.glob(os.path.join(root,'*'))\n",
    "    #print(file_path_list)"
   ]
  },
  {
   "cell_type": "markdown",
   "metadata": {},
   "source": [
    "#### Processing the files to create the data file csv that will be used for Apache Casssandra tables"
   ]
  },
  {
   "cell_type": "code",
   "execution_count": 3,
   "metadata": {},
   "outputs": [
    {
     "name": "stdout",
     "output_type": "stream",
     "text": [
      "8056\n"
     ]
    }
   ],
   "source": [
    "# initiating an empty list of rows that will be generated from each file\n",
    "full_data_rows_list = [] \n",
    "    \n",
    "# for every filepath in the file path list \n",
    "for f in file_path_list:\n",
    "\n",
    "# reading csv file \n",
    "    with open(f, 'r', encoding = 'utf8', newline='') as csvfile: \n",
    "        # creating a csv reader object \n",
    "        csvreader = csv.reader(csvfile) \n",
    "        next(csvreader)\n",
    "        \n",
    " # extracting each data row one by one and append it        \n",
    "        for line in csvreader:\n",
    "            #print(line)\n",
    "            full_data_rows_list.append(line) \n",
    "            \n",
    "# uncomment the code below if you would like to get total number of rows \n",
    "print(len(full_data_rows_list))\n",
    "# uncomment the code below if you would like to check to see what the list of event data rows will look like\n",
    "# print(full_data_rows_list)\n",
    "\n",
    "# creating a smaller event data csv file called event_datafile_full csv that will be used to insert data into the \\\n",
    "# Apache Cassandra tables\n",
    "csv.register_dialect('myDialect', quoting=csv.QUOTE_ALL, skipinitialspace=True)\n",
    "\n",
    "targetfile = os.path.abspath(os.curdir + '/../') + '/data/target/event_data.csv'\n",
    "\n",
    "with open(targetfile, 'w', encoding = 'utf8', newline='') as f:\n",
    "    writer = csv.writer(f, dialect='myDialect')\n",
    "    writer.writerow(['artist','firstName','gender','itemInSession','lastName','length',\\\n",
    "                'level','location','sessionId','song','userId'])\n",
    "    for row in full_data_rows_list:\n",
    "        if (row[0] == ''):\n",
    "            continue\n",
    "        writer.writerow((row[0], row[2], row[3], row[4], row[5], row[6], row[7], row[8], row[12], row[13], row[16]))"
   ]
  },
  {
   "cell_type": "code",
   "execution_count": 4,
   "metadata": {},
   "outputs": [
    {
     "name": "stdout",
     "output_type": "stream",
     "text": [
      "6821\n"
     ]
    }
   ],
   "source": [
    "# check the number of rows in your csv file\n",
    "with open(targetfile, 'r', encoding = 'utf8') as f:\n",
    "    print(sum(1 for line in f))"
   ]
  },
  {
   "cell_type": "markdown",
   "metadata": {},
   "source": [
    "# Part II. Complete the Apache Cassandra coding portion of your project. \n",
    "\n",
    "## Now you are ready to work with the CSV file titled <font color=red>event_datafile_new.csv</font>, located within the Workspace directory.  The event_datafile_new.csv contains the following columns: \n",
    "- artist \n",
    "- firstName of user\n",
    "- gender of user\n",
    "- item number in session\n",
    "- last name of user\n",
    "- length of the song\n",
    "- level (paid or free song)\n",
    "- location of the user\n",
    "- sessionId\n",
    "- song title\n",
    "- userId\n",
    "\n",
    "The image below is a screenshot of what the denormalized data should appear like in the <font color=red>**event_datafile_new.csv**</font> after the code above is run:<br>\n",
    "\n",
    "<img src=\"../images/image_event_datafile_new.jpg\">"
   ]
  },
  {
   "cell_type": "markdown",
   "metadata": {},
   "source": [
    "## Begin writing your Apache Cassandra code in the cells below"
   ]
  },
  {
   "cell_type": "markdown",
   "metadata": {},
   "source": [
    "#### Creating a Cluster"
   ]
  },
  {
   "cell_type": "code",
   "execution_count": 5,
   "metadata": {},
   "outputs": [],
   "source": [
    "# This should make a connection to a Cassandra instance your local machine \n",
    "# (127.0.0.1)\n",
    "from cassandra.cluster import Cluster\n",
    "\n",
    "# To establish connection and begin executing queries, need a session\n",
    "try: \n",
    "    cluster = Cluster(['127.0.0.1'])\n",
    "    session = cluster.connect()\n",
    "except Exception as e:\n",
    "    print(e)"
   ]
  },
  {
   "cell_type": "markdown",
   "metadata": {},
   "source": [
    "#### Create Keyspace"
   ]
  },
  {
   "cell_type": "code",
   "execution_count": 92,
   "metadata": {},
   "outputs": [],
   "source": [
    "try:\n",
    "    session.execute(\"\"\"\n",
    "    CREATE KEYSPACE IF NOT EXISTS udacity \n",
    "    WITH REPLICATION = \n",
    "    { 'class' : 'SimpleStrategy', 'replication_factor' : 1 }\"\"\"\n",
    ")\n",
    "\n",
    "except Exception as e:\n",
    "    print(e)"
   ]
  },
  {
   "cell_type": "markdown",
   "metadata": {},
   "source": [
    "#### Set Keyspace"
   ]
  },
  {
   "cell_type": "code",
   "execution_count": 93,
   "metadata": {},
   "outputs": [],
   "source": [
    "try:\n",
    "    session.set_keyspace('udacity')\n",
    "except Exception as e:\n",
    "    print(e)"
   ]
  },
  {
   "cell_type": "markdown",
   "metadata": {},
   "source": [
    "#### Create Pandas DataFrame from CSV"
   ]
  },
  {
   "cell_type": "code",
   "execution_count": 94,
   "metadata": {},
   "outputs": [
    {
     "data": {
      "text/html": [
       "<div>\n",
       "<style scoped>\n",
       "    .dataframe tbody tr th:only-of-type {\n",
       "        vertical-align: middle;\n",
       "    }\n",
       "\n",
       "    .dataframe tbody tr th {\n",
       "        vertical-align: top;\n",
       "    }\n",
       "\n",
       "    .dataframe thead th {\n",
       "        text-align: right;\n",
       "    }\n",
       "</style>\n",
       "<table border=\"1\" class=\"dataframe\">\n",
       "  <thead>\n",
       "    <tr style=\"text-align: right;\">\n",
       "      <th></th>\n",
       "      <th>artist</th>\n",
       "      <th>firstName</th>\n",
       "      <th>gender</th>\n",
       "      <th>itemInSession</th>\n",
       "      <th>lastName</th>\n",
       "      <th>length</th>\n",
       "      <th>level</th>\n",
       "      <th>location</th>\n",
       "      <th>sessionId</th>\n",
       "      <th>song</th>\n",
       "      <th>userId</th>\n",
       "    </tr>\n",
       "  </thead>\n",
       "  <tbody>\n",
       "    <tr>\n",
       "      <th>0</th>\n",
       "      <td>The Killers</td>\n",
       "      <td>Jayden</td>\n",
       "      <td>M</td>\n",
       "      <td>32</td>\n",
       "      <td>Graves</td>\n",
       "      <td>246.80444</td>\n",
       "      <td>paid</td>\n",
       "      <td>Marinette, WI-MI</td>\n",
       "      <td>594</td>\n",
       "      <td>Read My Mind</td>\n",
       "      <td>25</td>\n",
       "    </tr>\n",
       "    <tr>\n",
       "      <th>1</th>\n",
       "      <td>Tamia</td>\n",
       "      <td>Jayden</td>\n",
       "      <td>M</td>\n",
       "      <td>33</td>\n",
       "      <td>Graves</td>\n",
       "      <td>243.09506</td>\n",
       "      <td>paid</td>\n",
       "      <td>Marinette, WI-MI</td>\n",
       "      <td>594</td>\n",
       "      <td>Officially Missing You (Radio Version)</td>\n",
       "      <td>25</td>\n",
       "    </tr>\n",
       "    <tr>\n",
       "      <th>2</th>\n",
       "      <td>Randy Crawford</td>\n",
       "      <td>Jayden</td>\n",
       "      <td>M</td>\n",
       "      <td>34</td>\n",
       "      <td>Graves</td>\n",
       "      <td>270.75873</td>\n",
       "      <td>paid</td>\n",
       "      <td>Marinette, WI-MI</td>\n",
       "      <td>594</td>\n",
       "      <td>Almaz</td>\n",
       "      <td>25</td>\n",
       "    </tr>\n",
       "    <tr>\n",
       "      <th>3</th>\n",
       "      <td>Frumpies</td>\n",
       "      <td>Jayden</td>\n",
       "      <td>M</td>\n",
       "      <td>35</td>\n",
       "      <td>Graves</td>\n",
       "      <td>134.47791</td>\n",
       "      <td>paid</td>\n",
       "      <td>Marinette, WI-MI</td>\n",
       "      <td>594</td>\n",
       "      <td>Hello Kitty</td>\n",
       "      <td>25</td>\n",
       "    </tr>\n",
       "    <tr>\n",
       "      <th>4</th>\n",
       "      <td>Julia Fordham</td>\n",
       "      <td>Jayden</td>\n",
       "      <td>M</td>\n",
       "      <td>36</td>\n",
       "      <td>Graves</td>\n",
       "      <td>279.50975</td>\n",
       "      <td>paid</td>\n",
       "      <td>Marinette, WI-MI</td>\n",
       "      <td>594</td>\n",
       "      <td>Girlfriend</td>\n",
       "      <td>25</td>\n",
       "    </tr>\n",
       "  </tbody>\n",
       "</table>\n",
       "</div>"
      ],
      "text/plain": [
       "           artist firstName gender  itemInSession lastName     length level  \\\n",
       "0     The Killers    Jayden      M             32   Graves  246.80444  paid   \n",
       "1           Tamia    Jayden      M             33   Graves  243.09506  paid   \n",
       "2  Randy Crawford    Jayden      M             34   Graves  270.75873  paid   \n",
       "3        Frumpies    Jayden      M             35   Graves  134.47791  paid   \n",
       "4   Julia Fordham    Jayden      M             36   Graves  279.50975  paid   \n",
       "\n",
       "           location  sessionId                                    song  userId  \n",
       "0  Marinette, WI-MI        594                            Read My Mind      25  \n",
       "1  Marinette, WI-MI        594  Officially Missing You (Radio Version)      25  \n",
       "2  Marinette, WI-MI        594                                   Almaz      25  \n",
       "3  Marinette, WI-MI        594                             Hello Kitty      25  \n",
       "4  Marinette, WI-MI        594                              Girlfriend      25  "
      ]
     },
     "execution_count": 94,
     "metadata": {},
     "output_type": "execute_result"
    }
   ],
   "source": [
    "event_data = pd.read_csv(targetfile)\n",
    "event_data.head()"
   ]
  },
  {
   "cell_type": "markdown",
   "metadata": {},
   "source": [
    "### Now we need to create tables to run the following queries. Remember, with Apache Cassandra you model the database tables on the queries you want to run."
   ]
  },
  {
   "cell_type": "markdown",
   "metadata": {},
   "source": [
    "## Create queries to ask the following three questions of the data\n",
    "\n",
    "### 1. Give me the artist, song title and song's length in the music app history that was heard during  sessionId = 338, and itemInSession  = 4\n",
    "\n",
    "\n",
    "### 2. Give me only the following: name of artist, song (sorted by itemInSession) and user (first and last name) for userid = 10, sessionid = 182\n",
    "    \n",
    "\n",
    "### 3. Give me every user name (first and last) in my music app history who listened to the song 'All Hands Against His Own'\n",
    "\n",
    "\n"
   ]
  },
  {
   "cell_type": "code",
   "execution_count": 95,
   "metadata": {},
   "outputs": [],
   "source": [
    "query_by_session = \"\"\"\n",
    "SELECT artist, song, length\n",
    "FROM songplay_by_session\n",
    "WHERE sessionId = 338 AND itemInSession = 4\n",
    "\"\"\"\n",
    "\n",
    "query_by_user = \"\"\"\n",
    "SELECT artist, song, firstName, lastName\n",
    "FROM songplay_by_user\n",
    "WHERE userId = 10 AND sessionId = 182\n",
    "ORDER BY itemInSession\n",
    "\"\"\"\n",
    "\n",
    "query_by_song = \"\"\"\n",
    "SELECT firstName, lastName\n",
    "FROM songplay_by_song\n",
    "WHERE song = 'All Hands Against His Own'\n",
    "\"\"\""
   ]
  },
  {
   "cell_type": "code",
   "execution_count": 96,
   "metadata": {},
   "outputs": [],
   "source": [
    "query = \"\"\"\n",
    "CREATE TABLE IF NOT EXISTS songplay_by_session\n",
    "(artist text, song text, length float, sessionId int,\n",
    "itemInSession int, PRIMARY KEY (sessionId, itemInSession))\n",
    "\"\"\"\n",
    "try:\n",
    "    session.execute(query)\n",
    "except Exception as e:\n",
    "    print(e)"
   ]
  },
  {
   "cell_type": "code",
   "execution_count": 97,
   "metadata": {},
   "outputs": [],
   "source": [
    "query = \"\"\"\n",
    "CREATE TABLE IF NOT EXISTS songplay_by_user\n",
    "(artist text, song text, firstName text, lastName text,\n",
    "userId int, sessionId int, itemInSession int,\n",
    "PRIMARY KEY (userId, sessionId, itemInSession))\n",
    "\"\"\"\n",
    "try:\n",
    "    session.execute(query)\n",
    "except Exception as e:\n",
    "    print(e)"
   ]
  },
  {
   "cell_type": "code",
   "execution_count": 98,
   "metadata": {},
   "outputs": [],
   "source": [
    "query = \"\"\"\n",
    "CREATE TABLE IF NOT EXISTS songplay_by_song\n",
    "(firstName text, lastName text, song text,\n",
    "PRIMARY KEY (song, firstName, lastName))\n",
    "\"\"\"\n",
    "try:\n",
    "    session.execute(query)\n",
    "except Exception as e:\n",
    "    print(e)"
   ]
  },
  {
   "cell_type": "code",
   "execution_count": 99,
   "metadata": {},
   "outputs": [],
   "source": [
    "class Batch:\n",
    "\n",
    "    SESSION = 0\n",
    "    USER = 1\n",
    "    SONG = 2\n",
    "\n",
    "    def __init__(self, session, max_size):\n",
    "        self.session = session\n",
    "        self.max_size = max_size\n",
    "        self.size = 0\n",
    "\n",
    "        self.batches = [None, None, None]\n",
    "\n",
    "    def __begin_batch(self):\n",
    "        for index, batch in enumerate(self.batches):\n",
    "            self.batches[index] = StringIO()\n",
    "            self.batches[index].write(\"BEGIN BATCH\\n\")\n",
    "\n",
    "    def __create_insert(self, table, columns, values):\n",
    "        query = f\"INSERT INTO {table} ({', '.join(columns)}) VALUES ({', '.join(values)});\\n\"\n",
    "        return query\n",
    "\n",
    "    def __end_batch(self):\n",
    "        for index, batch in enumerate(self.batches):\n",
    "            try:\n",
    "                self.batches[index].write('APPLY BATCH;\\n')\n",
    "                self.batches[index].seek(0)\n",
    "                self.session.execute(self.batches[index].read())\n",
    "                self.batches[index].close()\n",
    "            except Exception as e:\n",
    "                print(e)\n",
    "        \n",
    "        self.batches = [None, None, None]\n",
    "        self.size = 0\n",
    "            \n",
    "\n",
    "    def __read_songplay(self, songplay_line):\n",
    "        songplay_line[0] = songplay_line[0].replace(\"'\", \"\")\n",
    "        songplay_line[9] = songplay_line[9].replace(\"'\", \"\")\n",
    "\n",
    "        return {\n",
    "            'artist': f\"'{songplay_line[0]}'\",\n",
    "            'firstName': f\"'{songplay_line[1]}'\",\n",
    "            'gender': f\"'{songplay_line[2]}'\",\n",
    "            'itemInSession': songplay_line[3],\n",
    "            'lastName': f\"'{songplay_line[4]}'\",\n",
    "            'length': songplay_line[5],\n",
    "            'level': f\"'{songplay_line[6]}'\",\n",
    "            'location': f\"'{songplay_line[7]}'\",\n",
    "            'sessionId': songplay_line[8],\n",
    "            'song': f\"'{songplay_line[9]}'\",\n",
    "            'userId': songplay_line[10]\n",
    "        }\n",
    "\n",
    "    def __write(self, songplay):\n",
    "\n",
    "        self.batches[Batch.SESSION].write(self.__create_insert(\n",
    "            'songplay_by_session',\n",
    "            ['artist', 'song', 'length', 'sessionId', 'itemInSession'],\n",
    "            [songplay['artist'], songplay['song'], songplay['length'],\n",
    "             songplay['sessionId'], songplay['itemInSession']])\n",
    "        )\n",
    "\n",
    "        self.batches[Batch.USER].write(self.__create_insert(\n",
    "            'songplay_by_user',\n",
    "            ['artist', 'song', 'firstName', 'lastName',\n",
    "                'userId', 'sessionId', 'itemInSession'],\n",
    "            [songplay['artist'], songplay['song'], songplay['firstName'], songplay['lastName'],\n",
    "             songplay['userId'], songplay['sessionId'], songplay['itemInSession']])\n",
    "        )\n",
    "\n",
    "        self.batches[Batch.SONG].write(self.__create_insert(\n",
    "            'songplay_by_song',\n",
    "            ['firstName', 'lastName', 'song'],\n",
    "            [songplay['firstName'], songplay['lastName'], songplay['song']])\n",
    "        )\n",
    "    \n",
    "    def commit(self, close=False):\n",
    "        self.__end_batch()\n",
    "        if close:\n",
    "            self.session.shutdown()\n",
    "            self.session.close()\n",
    "            self.session = None\n",
    "\n",
    "    def insert(self, songplay_line):\n",
    "        songplay = self.__read_songplay(songplay_line)\n",
    "\n",
    "        if self.size == 0:\n",
    "            self.__begin_batch()\n",
    "        \n",
    "        if self.size < self.max_size:\n",
    "            self.__write(songplay)\n",
    "            self.size += 1\n",
    "        else:\n",
    "            self.__write(songplay)\n",
    "            self.__end_batch()"
   ]
  },
  {
   "cell_type": "code",
   "execution_count": 100,
   "metadata": {
    "scrolled": false
   },
   "outputs": [],
   "source": [
    "batch = Batch(session, 100)\n",
    "\n",
    "with open(targetfile, encoding='utf8') as f:\n",
    "    csvreader = csv.reader(f)\n",
    "    next(csvreader)  # skip header\n",
    "    \n",
    "    for line in csvreader:\n",
    "        batch.insert(line)\n",
    "    \n",
    "    batch.commit()"
   ]
  },
  {
   "cell_type": "markdown",
   "metadata": {},
   "source": [
    "#### Do a SELECT to verify that the data have been inserted into each table"
   ]
  },
  {
   "cell_type": "code",
   "execution_count": 101,
   "metadata": {
    "scrolled": true
   },
   "outputs": [
    {
     "name": "stdout",
     "output_type": "stream",
     "text": [
      "Row(artist='Faithless', song='Music Matters (Mark Knight Dub)', length=495.30731201171875)\n"
     ]
    }
   ],
   "source": [
    "try:\n",
    "    response = session.execute(query_by_session)\n",
    "except Exception as e:\n",
    "    print(e)\n",
    "\n",
    "for row in response.all():\n",
    "    print(row) "
   ]
  },
  {
   "cell_type": "markdown",
   "metadata": {},
   "source": [
    "### COPY AND REPEAT THE ABOVE THREE CELLS FOR EACH OF THE THREE QUESTIONS"
   ]
  },
  {
   "cell_type": "code",
   "execution_count": 102,
   "metadata": {},
   "outputs": [
    {
     "name": "stdout",
     "output_type": "stream",
     "text": [
      "Row(artist='Down To The Bone', song='Keep On Keepin On', firstname='Sylvie', lastname='Cruz')\n",
      "Row(artist='Three Drives', song='Greece 2000', firstname='Sylvie', lastname='Cruz')\n",
      "Row(artist='Sebastien Tellier', song='Kilometer', firstname='Sylvie', lastname='Cruz')\n",
      "Row(artist='Lonnie Gordon', song='Catch You Baby (Steve Pitron & Max Sanna Radio Edit)', firstname='Sylvie', lastname='Cruz')\n"
     ]
    }
   ],
   "source": [
    "try:\n",
    "    response = session.execute(query_by_user)\n",
    "except Exception as e:\n",
    "    print(e)\n",
    "\n",
    "for row in response.all():\n",
    "    print(row)         "
   ]
  },
  {
   "cell_type": "code",
   "execution_count": 103,
   "metadata": {},
   "outputs": [
    {
     "name": "stdout",
     "output_type": "stream",
     "text": [
      "Row(firstname='Jacqueline', lastname='Lynch')\n",
      "Row(firstname='Sara', lastname='Johnson')\n",
      "Row(firstname='Tegan', lastname='Levine')\n"
     ]
    }
   ],
   "source": [
    "try:\n",
    "    response = session.execute(query_by_song)\n",
    "except Exception as e:\n",
    "    print(e)\n",
    "\n",
    "for row in response.all():\n",
    "    print(row)                    "
   ]
  },
  {
   "cell_type": "markdown",
   "metadata": {},
   "source": [
    "### Drop the tables before closing out the sessions"
   ]
  },
  {
   "cell_type": "code",
   "execution_count": null,
   "metadata": {},
   "outputs": [],
   "source": [
    "query = \"DROP TABLE IF EXISTS songplay_by_session\"\n",
    "try:\n",
    "    session.execute(query)\n",
    "except Exception as e:\n",
    "    print(e)\n",
    "\n",
    "query = \"DROP TABLE IF EXISTS songplay_by_user\"\n",
    "try:\n",
    "    session.execute(query)\n",
    "except Exception as e:\n",
    "    print(e)\n",
    "\n",
    "query = \"DROP TABLE IF EXISTS songplay_by_song\"\n",
    "try:\n",
    "    session.execute(query)\n",
    "except Exception as e:\n",
    "    print(e)"
   ]
  },
  {
   "cell_type": "markdown",
   "metadata": {},
   "source": [
    "### Close the session and cluster connection¶"
   ]
  },
  {
   "cell_type": "code",
   "execution_count": null,
   "metadata": {},
   "outputs": [],
   "source": [
    "session.shutdown()\n",
    "cluster.shutdown()"
   ]
  }
 ],
 "metadata": {
  "kernelspec": {
   "display_name": "Python 3.10.4 ('py310')",
   "language": "python",
   "name": "python3"
  },
  "language_info": {
   "codemirror_mode": {
    "name": "ipython",
    "version": 3
   },
   "file_extension": ".py",
   "mimetype": "text/x-python",
   "name": "python",
   "nbconvert_exporter": "python",
   "pygments_lexer": "ipython3",
   "version": "3.10.4"
  },
  "vscode": {
   "interpreter": {
    "hash": "d47df541592af340dce933e7169349dc2df4da248e87c9a46187cbe39a8376b2"
   }
  }
 },
 "nbformat": 4,
 "nbformat_minor": 2
}
