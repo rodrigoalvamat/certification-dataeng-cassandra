{
 "cells": [
  {
   "cell_type": "markdown",
   "metadata": {},
   "source": [
    "# Apache Cassandra Database Modeling & ETL Pipeline"
   ]
  },
  {
   "cell_type": "markdown",
   "metadata": {},
   "source": [
    "#### Import Python packages "
   ]
  },
  {
   "cell_type": "code",
   "execution_count": 118,
   "metadata": {},
   "outputs": [],
   "source": [
    "# sys libs\n",
    "import os\n",
    "import glob\n",
    "from io import StringIO\n",
    "# data libs\n",
    "import pandas as pd\n",
    "import csv\n",
    "# database libs\n",
    "from cassandra.cluster import Cluster"
   ]
  },
  {
   "cell_type": "markdown",
   "metadata": {},
   "source": [
    "## ETL Phase 1: Pre-Processing CSV Files"
   ]
  },
  {
   "cell_type": "markdown",
   "metadata": {},
   "source": [
    "#### Create the list of filepaths to process event_data CSV files"
   ]
  },
  {
   "cell_type": "code",
   "execution_count": 119,
   "metadata": {},
   "outputs": [],
   "source": [
    "# create a list of files in the data folder\n",
    "def get_file_list(dir):\n",
    "    # get the current folder and 'dir' subfolder\n",
    "    filepath = os.path.abspath(f'{os.getcwd()}/{dir}')\n",
    "\n",
    "    # create a list of files and collect each filepath\n",
    "    for root, dirs, files in os.walk(filepath):\n",
    "        # join the file path and roots with the subdirectories using glob\n",
    "        file_path_list = glob.glob(os.path.join(root, '*'))\n",
    "\n",
    "    return file_path_list"
   ]
  },
  {
   "cell_type": "markdown",
   "metadata": {},
   "source": [
    "#### Process the files list to create the data_rows list"
   ]
  },
  {
   "cell_type": "code",
   "execution_count": 120,
   "metadata": {},
   "outputs": [],
   "source": [
    "# read all csv files and return a list of data rows\n",
    "def get_data_rows(files):\n",
    "    # initiating an empty list of rows\n",
    "    data_rows = []\n",
    "    # for every filepath in the file path list\n",
    "    for f in get_file_list(files):\n",
    "        # reading csv file\n",
    "        with open(f, 'r', encoding='utf8', newline='') as csvfile:\n",
    "            # create a csv reader object\n",
    "            csvreader = csv.reader(csvfile)\n",
    "            next(csvreader)\n",
    "            # extracting each data row and append it\n",
    "            for line in csvreader:\n",
    "                data_rows.append(line)\n",
    "\n",
    "    return data_rows"
   ]
  },
  {
   "cell_type": "markdown",
   "metadata": {},
   "source": [
    "#### Write the single target CSV file to generate insert statements for Cassandra's tables"
   ]
  },
  {
   "cell_type": "code",
   "execution_count": 121,
   "metadata": {},
   "outputs": [],
   "source": [
    "# create a single event data csv file called 'event_datafile_new.csv'\n",
    "def write_target_file(file, rows):\n",
    "\n",
    "    # file used to insert data into the Apache Cassandra tables\n",
    "    targetfile = os.path.abspath(f'{os.getcwd()}/{file}')\n",
    "\n",
    "    # configure a csv writer object\n",
    "    csv.register_dialect('myDialect', quoting=csv.QUOTE_ALL, skipinitialspace=True)\n",
    "    # create a csv writer object\n",
    "    with open(targetfile, 'w', encoding='utf8', newline='') as f:\n",
    "        # write the header row\n",
    "        writer = csv.writer(f, dialect='myDialect')\n",
    "        writer.writerow(['artist', 'firstName', 'gender', 'itemInSession', 'lastName',\n",
    "                         'length', 'level', 'location', 'sessionId', 'song', 'userId'])\n",
    "        # write each data row\n",
    "        for row in rows:\n",
    "            # ignore all rows where the artist is empty\n",
    "            if (row[0] == ''):\n",
    "                continue\n",
    "            writer.writerow((row[0], row[2], row[3], row[4], row[5], row[6],\n",
    "                             row[7], row[8], row[12], row[13], row[16]))\n",
    "    \n",
    "    # returns the absolute target file path\n",
    "    return targetfile"
   ]
  },
  {
   "cell_type": "markdown",
   "metadata": {},
   "source": [
    "#### Process source files and write the target file"
   ]
  },
  {
   "cell_type": "code",
   "execution_count": 122,
   "metadata": {},
   "outputs": [
    {
     "name": "stdout",
     "output_type": "stream",
     "text": [
      "INFO: Rows read from the source CSV: 8056\n",
      "INFO: Rows written in target CSV: 6821\n",
      "INFO: Source files were filtered to remove rows with empty artist names.\n"
     ]
    }
   ],
   "source": [
    "# read all csv files in 'data/event_data' and return a list of data rows \n",
    "data_rows = get_data_rows('data/event_data')\n",
    "\n",
    "# write a single csv file from the data rows\n",
    "targetfile = write_target_file('event_data_new.csv', data_rows)\n",
    "\n",
    "# print the number of rows in the source files\n",
    "print(f'INFO: Rows read from the source CSV: {len(data_rows)}')\n",
    "\n",
    "# print the number of rows in the target file\n",
    "with open(targetfile, 'r', encoding = 'utf8') as f:\n",
    "    print(f'INFO: Rows written in target CSV: {sum(1 for line in f)}')\n",
    "\n",
    "print('INFO: Source files were filtered to remove rows with empty artist names.')"
   ]
  },
  {
   "cell_type": "markdown",
   "metadata": {},
   "source": [
    "## Apache Cassandra Database Modeling \n",
    "\n",
    "##### The <font color=blue>event_data_new.csv</font> contains the following columns: \n",
    "\n",
    "- artist \n",
    "- firstName of user\n",
    "- gender of user\n",
    "- item number in session\n",
    "- last name of user\n",
    "- length of the song\n",
    "- level (paid or free song)\n",
    "- location of the user\n",
    "- sessionId\n",
    "- song title\n",
    "- userId\n",
    "\n",
    "The image below is a screenshot of the denormalized data in <font color=blue>**event_data_new.csv**</font> after the code above is run:<br>\n",
    "\n",
    "<img src=\"./images/image_event_data_new.jpg\">"
   ]
  },
  {
   "cell_type": "markdown",
   "metadata": {},
   "source": [
    "#### Creating a Cluster"
   ]
  },
  {
   "cell_type": "code",
   "execution_count": 123,
   "metadata": {},
   "outputs": [],
   "source": [
    "try:\n",
    "    # creates and returns a new Session object. \n",
    "    cluster = Cluster(['127.0.0.1'])\n",
    "    session = cluster.connect()\n",
    "except Exception as e:\n",
    "    print(e)"
   ]
  },
  {
   "cell_type": "markdown",
   "metadata": {},
   "source": [
    "#### Create Keyspace"
   ]
  },
  {
   "cell_type": "code",
   "execution_count": 124,
   "metadata": {},
   "outputs": [],
   "source": [
    "try:\n",
    "    # create a keyspace if it doesn't exist\n",
    "    session.execute(\"\"\"\n",
    "    CREATE KEYSPACE IF NOT EXISTS udacity \n",
    "    WITH REPLICATION = \n",
    "    { 'class' : 'SimpleStrategy', 'replication_factor' : 1 }\n",
    "    \"\"\")\n",
    "except Exception as e:\n",
    "    print(e)"
   ]
  },
  {
   "cell_type": "markdown",
   "metadata": {},
   "source": [
    "#### Set Keyspace"
   ]
  },
  {
   "cell_type": "code",
   "execution_count": 125,
   "metadata": {},
   "outputs": [],
   "source": [
    "try:\n",
    "    # set the current session keyspace\n",
    "    session.set_keyspace('udacity')\n",
    "except Exception as e:\n",
    "    print(e)"
   ]
  },
  {
   "cell_type": "markdown",
   "metadata": {},
   "source": [
    "### Create queries to ask the following three questions:"
   ]
  },
  {
   "cell_type": "markdown",
   "metadata": {},
   "source": [
    "##### 1. Give me the artist, song title and song's length in the music app history that was heard during  sessionId = 338, and itemInSession  = 4"
   ]
  },
  {
   "cell_type": "code",
   "execution_count": 126,
   "metadata": {},
   "outputs": [],
   "source": [
    "select_songplay_by_session = \"\"\"\n",
    "SELECT artist, song, length\n",
    "FROM songplayBySession\n",
    "WHERE sessionId = 338 AND itemInSession = 4\n",
    "\"\"\""
   ]
  },
  {
   "cell_type": "markdown",
   "metadata": {},
   "source": [
    "##### 2. Give me only the following: name of artist, song (sorted by itemInSession) and user (first and last name) for userid = 10, sessionid = 182"
   ]
  },
  {
   "cell_type": "code",
   "execution_count": 127,
   "metadata": {},
   "outputs": [],
   "source": [
    "select_songplay_by_user = \"\"\"\n",
    "SELECT artist, song, firstName, lastName\n",
    "FROM songplayByUser\n",
    "WHERE userId = 10 AND sessionId = 182\n",
    "ORDER BY itemInSession ASC\n",
    "\"\"\""
   ]
  },
  {
   "cell_type": "markdown",
   "metadata": {},
   "source": [
    "##### 3. Give me every user name (first and last) in my music app history who listened to the song 'All Hands Against His Own'"
   ]
  },
  {
   "cell_type": "code",
   "execution_count": 128,
   "metadata": {},
   "outputs": [],
   "source": [
    "select_songplay_by_song = \"\"\"\n",
    "SELECT firstName, lastName\n",
    "FROM songplayBySong\n",
    "WHERE song = 'All Hands Against His Own'\n",
    "\"\"\""
   ]
  },
  {
   "cell_type": "markdown",
   "metadata": {},
   "source": [
    "#### Create Pandas DataFrame to Test Queries"
   ]
  },
  {
   "cell_type": "code",
   "execution_count": 129,
   "metadata": {},
   "outputs": [
    {
     "name": "stdout",
     "output_type": "stream",
     "text": [
      "The data set has 11 columns and 6820 rows\n"
     ]
    },
    {
     "data": {
      "text/html": [
       "<div>\n",
       "<style scoped>\n",
       "    .dataframe tbody tr th:only-of-type {\n",
       "        vertical-align: middle;\n",
       "    }\n",
       "\n",
       "    .dataframe tbody tr th {\n",
       "        vertical-align: top;\n",
       "    }\n",
       "\n",
       "    .dataframe thead th {\n",
       "        text-align: right;\n",
       "    }\n",
       "</style>\n",
       "<table border=\"1\" class=\"dataframe\">\n",
       "  <thead>\n",
       "    <tr style=\"text-align: right;\">\n",
       "      <th></th>\n",
       "      <th>artist</th>\n",
       "      <th>firstName</th>\n",
       "      <th>gender</th>\n",
       "      <th>itemInSession</th>\n",
       "      <th>lastName</th>\n",
       "      <th>length</th>\n",
       "      <th>level</th>\n",
       "      <th>location</th>\n",
       "      <th>sessionId</th>\n",
       "      <th>song</th>\n",
       "      <th>userId</th>\n",
       "    </tr>\n",
       "  </thead>\n",
       "  <tbody>\n",
       "    <tr>\n",
       "      <th>0</th>\n",
       "      <td>The Killers</td>\n",
       "      <td>Jayden</td>\n",
       "      <td>M</td>\n",
       "      <td>32</td>\n",
       "      <td>Graves</td>\n",
       "      <td>246.80444</td>\n",
       "      <td>paid</td>\n",
       "      <td>Marinette, WI-MI</td>\n",
       "      <td>594</td>\n",
       "      <td>Read My Mind</td>\n",
       "      <td>25</td>\n",
       "    </tr>\n",
       "    <tr>\n",
       "      <th>1</th>\n",
       "      <td>Tamia</td>\n",
       "      <td>Jayden</td>\n",
       "      <td>M</td>\n",
       "      <td>33</td>\n",
       "      <td>Graves</td>\n",
       "      <td>243.09506</td>\n",
       "      <td>paid</td>\n",
       "      <td>Marinette, WI-MI</td>\n",
       "      <td>594</td>\n",
       "      <td>Officially Missing You (Radio Version)</td>\n",
       "      <td>25</td>\n",
       "    </tr>\n",
       "  </tbody>\n",
       "</table>\n",
       "</div>"
      ],
      "text/plain": [
       "        artist firstName gender  itemInSession lastName     length level  \\\n",
       "0  The Killers    Jayden      M             32   Graves  246.80444  paid   \n",
       "1        Tamia    Jayden      M             33   Graves  243.09506  paid   \n",
       "\n",
       "           location  sessionId                                    song  userId  \n",
       "0  Marinette, WI-MI        594                            Read My Mind      25  \n",
       "1  Marinette, WI-MI        594  Officially Missing You (Radio Version)      25  "
      ]
     },
     "execution_count": 129,
     "metadata": {},
     "output_type": "execute_result"
    }
   ],
   "source": [
    "event_data = pd.read_csv(targetfile)\n",
    "print(f'The data set has {event_data.shape[1]} columns and {event_data.shape[0]} rows')\n",
    "event_data.head(2)"
   ]
  },
  {
   "cell_type": "code",
   "execution_count": 130,
   "metadata": {},
   "outputs": [
    {
     "data": {
      "text/html": [
       "<div>\n",
       "<style scoped>\n",
       "    .dataframe tbody tr th:only-of-type {\n",
       "        vertical-align: middle;\n",
       "    }\n",
       "\n",
       "    .dataframe tbody tr th {\n",
       "        vertical-align: top;\n",
       "    }\n",
       "\n",
       "    .dataframe thead th {\n",
       "        text-align: right;\n",
       "    }\n",
       "</style>\n",
       "<table border=\"1\" class=\"dataframe\">\n",
       "  <thead>\n",
       "    <tr style=\"text-align: right;\">\n",
       "      <th></th>\n",
       "      <th>artist</th>\n",
       "      <th>song</th>\n",
       "      <th>length</th>\n",
       "    </tr>\n",
       "  </thead>\n",
       "  <tbody>\n",
       "    <tr>\n",
       "      <th>366</th>\n",
       "      <td>Faithless</td>\n",
       "      <td>Music Matters (Mark Knight Dub)</td>\n",
       "      <td>495.3073</td>\n",
       "    </tr>\n",
       "  </tbody>\n",
       "</table>\n",
       "</div>"
      ],
      "text/plain": [
       "        artist                             song    length\n",
       "366  Faithless  Music Matters (Mark Knight Dub)  495.3073"
      ]
     },
     "execution_count": 130,
     "metadata": {},
     "output_type": "execute_result"
    }
   ],
   "source": [
    "# query 1\n",
    "select_columns = ['artist', 'song', 'length']\n",
    "where_conditions = '(sessionId == 338) & (itemInSession == 4)'\n",
    "event_data.query(where_conditions)[select_columns]"
   ]
  },
  {
   "cell_type": "code",
   "execution_count": 131,
   "metadata": {},
   "outputs": [
    {
     "data": {
      "text/html": [
       "<div>\n",
       "<style scoped>\n",
       "    .dataframe tbody tr th:only-of-type {\n",
       "        vertical-align: middle;\n",
       "    }\n",
       "\n",
       "    .dataframe tbody tr th {\n",
       "        vertical-align: top;\n",
       "    }\n",
       "\n",
       "    .dataframe thead th {\n",
       "        text-align: right;\n",
       "    }\n",
       "</style>\n",
       "<table border=\"1\" class=\"dataframe\">\n",
       "  <thead>\n",
       "    <tr style=\"text-align: right;\">\n",
       "      <th></th>\n",
       "      <th>artist</th>\n",
       "      <th>song</th>\n",
       "      <th>firstName</th>\n",
       "      <th>lastName</th>\n",
       "    </tr>\n",
       "  </thead>\n",
       "  <tbody>\n",
       "    <tr>\n",
       "      <th>2663</th>\n",
       "      <td>Down To The Bone</td>\n",
       "      <td>Keep On Keepin' On</td>\n",
       "      <td>Sylvie</td>\n",
       "      <td>Cruz</td>\n",
       "    </tr>\n",
       "    <tr>\n",
       "      <th>2664</th>\n",
       "      <td>Three Drives</td>\n",
       "      <td>Greece 2000</td>\n",
       "      <td>Sylvie</td>\n",
       "      <td>Cruz</td>\n",
       "    </tr>\n",
       "    <tr>\n",
       "      <th>2665</th>\n",
       "      <td>Sebastien Tellier</td>\n",
       "      <td>Kilometer</td>\n",
       "      <td>Sylvie</td>\n",
       "      <td>Cruz</td>\n",
       "    </tr>\n",
       "    <tr>\n",
       "      <th>2666</th>\n",
       "      <td>Lonnie Gordon</td>\n",
       "      <td>Catch You Baby (Steve Pitron &amp; Max Sanna Radio...</td>\n",
       "      <td>Sylvie</td>\n",
       "      <td>Cruz</td>\n",
       "    </tr>\n",
       "  </tbody>\n",
       "</table>\n",
       "</div>"
      ],
      "text/plain": [
       "                 artist                                               song  \\\n",
       "2663   Down To The Bone                                 Keep On Keepin' On   \n",
       "2664       Three Drives                                        Greece 2000   \n",
       "2665  Sebastien Tellier                                          Kilometer   \n",
       "2666      Lonnie Gordon  Catch You Baby (Steve Pitron & Max Sanna Radio...   \n",
       "\n",
       "     firstName lastName  \n",
       "2663    Sylvie     Cruz  \n",
       "2664    Sylvie     Cruz  \n",
       "2665    Sylvie     Cruz  \n",
       "2666    Sylvie     Cruz  "
      ]
     },
     "execution_count": 131,
     "metadata": {},
     "output_type": "execute_result"
    }
   ],
   "source": [
    "# query 2\n",
    "select_columns = ['artist', 'song', 'firstName', 'lastName']\n",
    "where_conditions = '(userId == 10) and (sessionId == 182)'\n",
    "event_data.query(where_conditions).sort_values('itemInSession', ascending=True)[select_columns]"
   ]
  },
  {
   "cell_type": "code",
   "execution_count": 132,
   "metadata": {},
   "outputs": [
    {
     "data": {
      "text/html": [
       "<div>\n",
       "<style scoped>\n",
       "    .dataframe tbody tr th:only-of-type {\n",
       "        vertical-align: middle;\n",
       "    }\n",
       "\n",
       "    .dataframe tbody tr th {\n",
       "        vertical-align: top;\n",
       "    }\n",
       "\n",
       "    .dataframe thead th {\n",
       "        text-align: right;\n",
       "    }\n",
       "</style>\n",
       "<table border=\"1\" class=\"dataframe\">\n",
       "  <thead>\n",
       "    <tr style=\"text-align: right;\">\n",
       "      <th></th>\n",
       "      <th>firstName</th>\n",
       "      <th>lastName</th>\n",
       "    </tr>\n",
       "  </thead>\n",
       "  <tbody>\n",
       "    <tr>\n",
       "      <th>693</th>\n",
       "      <td>Sara</td>\n",
       "      <td>Johnson</td>\n",
       "    </tr>\n",
       "    <tr>\n",
       "      <th>1249</th>\n",
       "      <td>Jacqueline</td>\n",
       "      <td>Lynch</td>\n",
       "    </tr>\n",
       "    <tr>\n",
       "      <th>5838</th>\n",
       "      <td>Tegan</td>\n",
       "      <td>Levine</td>\n",
       "    </tr>\n",
       "  </tbody>\n",
       "</table>\n",
       "</div>"
      ],
      "text/plain": [
       "       firstName lastName\n",
       "693         Sara  Johnson\n",
       "1249  Jacqueline    Lynch\n",
       "5838       Tegan   Levine"
      ]
     },
     "execution_count": 132,
     "metadata": {},
     "output_type": "execute_result"
    }
   ],
   "source": [
    "# query 3\n",
    "select_columns = ['firstName', 'lastName']\n",
    "where_conditions = \"song == 'All Hands Against His Own'\"\n",
    "event_data.query(where_conditions)[select_columns]"
   ]
  },
  {
   "cell_type": "markdown",
   "metadata": {},
   "source": [
    "#### Find Unique Keys with Pandas DataFrame"
   ]
  },
  {
   "cell_type": "code",
   "execution_count": 133,
   "metadata": {},
   "outputs": [
    {
     "data": {
      "text/html": [
       "<div>\n",
       "<style scoped>\n",
       "    .dataframe tbody tr th:only-of-type {\n",
       "        vertical-align: middle;\n",
       "    }\n",
       "\n",
       "    .dataframe tbody tr th {\n",
       "        vertical-align: top;\n",
       "    }\n",
       "\n",
       "    .dataframe thead th {\n",
       "        text-align: right;\n",
       "    }\n",
       "</style>\n",
       "<table border=\"1\" class=\"dataframe\">\n",
       "  <thead>\n",
       "    <tr style=\"text-align: right;\">\n",
       "      <th></th>\n",
       "      <th>Columns</th>\n",
       "      <th>Number of Duplicates</th>\n",
       "      <th>Is Unique</th>\n",
       "    </tr>\n",
       "    <tr>\n",
       "      <th>Table</th>\n",
       "      <th></th>\n",
       "      <th></th>\n",
       "      <th></th>\n",
       "    </tr>\n",
       "  </thead>\n",
       "  <tbody>\n",
       "    <tr>\n",
       "      <th>songplayBySession</th>\n",
       "      <td>[sessionId]</td>\n",
       "      <td>6044</td>\n",
       "      <td>No</td>\n",
       "    </tr>\n",
       "    <tr>\n",
       "      <th>songplayBySession</th>\n",
       "      <td>[sessionId, itemInSession]</td>\n",
       "      <td>0</td>\n",
       "      <td>Yes</td>\n",
       "    </tr>\n",
       "    <tr>\n",
       "      <th>songplayByUser</th>\n",
       "      <td>[userId]</td>\n",
       "      <td>6724</td>\n",
       "      <td>No</td>\n",
       "    </tr>\n",
       "    <tr>\n",
       "      <th>songplayByUser</th>\n",
       "      <td>[userId, sessionId]</td>\n",
       "      <td>6044</td>\n",
       "      <td>No</td>\n",
       "    </tr>\n",
       "    <tr>\n",
       "      <th>songplayByUser</th>\n",
       "      <td>[userId, sessionId, itemInSession]</td>\n",
       "      <td>0</td>\n",
       "      <td>Yes</td>\n",
       "    </tr>\n",
       "    <tr>\n",
       "      <th>songplayBySong</th>\n",
       "      <td>[song]</td>\n",
       "      <td>1630</td>\n",
       "      <td>No</td>\n",
       "    </tr>\n",
       "    <tr>\n",
       "      <th>songplayBySong</th>\n",
       "      <td>[song, firstName]</td>\n",
       "      <td>218</td>\n",
       "      <td>No</td>\n",
       "    </tr>\n",
       "    <tr>\n",
       "      <th>songplayBySong</th>\n",
       "      <td>[song, firstName, lastName]</td>\n",
       "      <td>202</td>\n",
       "      <td>No</td>\n",
       "    </tr>\n",
       "    <tr>\n",
       "      <th>songplayBySong</th>\n",
       "      <td>[song, sessionId, itemInSession]</td>\n",
       "      <td>0</td>\n",
       "      <td>Yes</td>\n",
       "    </tr>\n",
       "  </tbody>\n",
       "</table>\n",
       "</div>"
      ],
      "text/plain": [
       "                                              Columns  Number of Duplicates  \\\n",
       "Table                                                                         \n",
       "songplayBySession                         [sessionId]                  6044   \n",
       "songplayBySession          [sessionId, itemInSession]                     0   \n",
       "songplayByUser                               [userId]                  6724   \n",
       "songplayByUser                    [userId, sessionId]                  6044   \n",
       "songplayByUser     [userId, sessionId, itemInSession]                     0   \n",
       "songplayBySong                                 [song]                  1630   \n",
       "songplayBySong                      [song, firstName]                   218   \n",
       "songplayBySong            [song, firstName, lastName]                   202   \n",
       "songplayBySong       [song, sessionId, itemInSession]                     0   \n",
       "\n",
       "                  Is Unique  \n",
       "Table                        \n",
       "songplayBySession        No  \n",
       "songplayBySession       Yes  \n",
       "songplayByUser           No  \n",
       "songplayByUser           No  \n",
       "songplayByUser          Yes  \n",
       "songplayBySong           No  \n",
       "songplayBySong           No  \n",
       "songplayBySong           No  \n",
       "songplayBySong          Yes  "
      ]
     },
     "execution_count": 133,
     "metadata": {},
     "output_type": "execute_result"
    }
   ],
   "source": [
    "# create a set of key combinations for each table\n",
    "key_combinations = [\n",
    "    ['songplayBySession', ['sessionId'], 0, ''],\n",
    "    ['songplayBySession', ['sessionId', 'itemInSession'], 0, ''],\n",
    "    ['songplayByUser', ['userId'], 0, ''],\n",
    "    ['songplayByUser', ['userId', 'sessionId'], 0, ''],\n",
    "    ['songplayByUser', ['userId', 'sessionId', 'itemInSession'], 0, ''],\n",
    "    ['songplayBySong', ['song'], 0, ''],\n",
    "    ['songplayBySong', ['song', 'firstName'], 0, ''],\n",
    "    ['songplayBySong', ['song', 'firstName', 'lastName'], 0, ''],\n",
    "    ['songplayBySong', ['song', 'sessionId', 'itemInSession'], 0, '']\n",
    "]\n",
    "\n",
    "# loop through the key combinations and test for primary key candidates\n",
    "for key_combination in key_combinations:\n",
    "    key_combination[2] = event_data.duplicated(key_combination[1]).sum()\n",
    "    key_combination[3] = 'Yes' if key_combination[2] == 0 else 'No'\n",
    "\n",
    "# show the results\n",
    "key_cadidates = pd.DataFrame(key_combinations,\n",
    "                             columns=['Table', 'Columns', 'Number of Duplicates', 'Is Unique']).set_index('Table')\n",
    "key_cadidates"
   ]
  },
  {
   "cell_type": "markdown",
   "metadata": {},
   "source": [
    "#### Create Table Statements\n",
    "\n",
    "**IMPORTANT:** The tables' primary keys were defined according to each **query requirement** and the **key candidates** above. All information presented in the Udacity course material, in addition to the information found on [this course page](https://www.baeldung.com/cassandra-keys), was used as a reference to design the tables."
   ]
  },
  {
   "cell_type": "code",
   "execution_count": 134,
   "metadata": {},
   "outputs": [],
   "source": [
    "# table for 1. select_songplay_by_session\n",
    "query = \"\"\"\n",
    "CREATE TABLE IF NOT EXISTS songplayBySession\n",
    "(artist text, song text, length float,\n",
    "sessionId int, itemInSession int,\n",
    "PRIMARY KEY ((sessionId, itemInSession)))\n",
    "\"\"\"\n",
    "try:\n",
    "    session.execute(query)\n",
    "except Exception as e:\n",
    "    print(e)"
   ]
  },
  {
   "cell_type": "code",
   "execution_count": 135,
   "metadata": {},
   "outputs": [],
   "source": [
    "# table for 2. select_songplay_by_user\n",
    "query = \"\"\"\n",
    "CREATE TABLE IF NOT EXISTS songplayByUser\n",
    "(artist text, song text, firstName text, lastName text,\n",
    "userId int, sessionId int, itemInSession int,\n",
    "PRIMARY KEY ((userId, sessionId), itemInSession))\n",
    "\"\"\"\n",
    "try:\n",
    "    session.execute(query)\n",
    "except Exception as e:\n",
    "    print(e)"
   ]
  },
  {
   "cell_type": "code",
   "execution_count": 136,
   "metadata": {},
   "outputs": [],
   "source": [
    "# table for 3. select_songplay_by_song\n",
    "query = \"\"\"\n",
    "CREATE TABLE IF NOT EXISTS songplayBySong\n",
    "(song text, sessionId int, itemInSession int,\n",
    "firstName text, lastName text,\n",
    "PRIMARY KEY (song, sessionId, itemInSession))\n",
    "\"\"\"\n",
    "try:\n",
    "    session.execute(query)\n",
    "except Exception as e:\n",
    "    print(e)"
   ]
  },
  {
   "cell_type": "markdown",
   "metadata": {},
   "source": [
    "#### Create a table insert statement builder"
   ]
  },
  {
   "cell_type": "code",
   "execution_count": 137,
   "metadata": {},
   "outputs": [],
   "source": [
    "class InsertBuilder:\n",
    "    \"\"\"\n",
    "    This class defines an insert statement builder\n",
    "    that maps a data input into a CQL statement.\n",
    "    \"\"\"\n",
    "\n",
    "    def __init__(self, table, columns, mapper):\n",
    "        \"\"\"\n",
    "        The constructor instantiates an insert builder with the following arguments:\n",
    "\n",
    "        Args:\n",
    "\n",
    "        `table`: The name of the table to generate the insert statement.\n",
    "        `columns`: The list of the table columns.\n",
    "        `mapper`: A function that maps the input values to the table columns' values.\n",
    "        \"\"\"\n",
    "        self.table = table\n",
    "        self.columns = columns\n",
    "        self.mapper = mapper\n",
    "\n",
    "    def to_sql(self, values):\n",
    "        \"\"\"\n",
    "        Maps the data input to the table insert statement.\n",
    "\n",
    "        Args:\n",
    "\n",
    "        `values`: The data to be mapped into insert values.\n",
    "        \"\"\"\n",
    "        query = f\"\"\"\n",
    "        INSERT INTO {self.table} ({', '.join(self.columns)})\n",
    "        VALUES ({', '.join(self.mapper(values, self.columns))});\\n\n",
    "        \"\"\"\n",
    "        return query"
   ]
  },
  {
   "cell_type": "markdown",
   "metadata": {},
   "source": [
    "#### Create a batch insert processing mananger"
   ]
  },
  {
   "cell_type": "code",
   "execution_count": 138,
   "metadata": {},
   "outputs": [],
   "source": [
    "class InsertBatch:\n",
    "    \"\"\"\n",
    "    This class defines a batch processing object that can be\n",
    "    used to insert data into the Apache Cassandra tables.\n",
    "\n",
    "    See Also:\n",
    "    `https://docs.datastax.com/en/cql-oss/3.3/cql/cql_using/useBatchGoodExample.html`: DataStax documentation on batch statement.\n",
    "    \"\"\"\n",
    "\n",
    "    def __init__(self, session, inserts, max_size=250):\n",
    "        \"\"\"\n",
    "        The constructor instantiates a batch object with the following arguments:\n",
    "\n",
    "        Args:\n",
    "\n",
    "        `session`: Cassandra session object.\n",
    "        `inserts`: List of insert statement builders per table.\n",
    "        `max_size`: The maximum number of rows to be inserted by each commit.\n",
    "        \"\"\"\n",
    "        self.session = session\n",
    "\n",
    "        self.buffers = [None] * len(inserts)\n",
    "        self.inserts = inserts\n",
    "\n",
    "        self.max_size = max_size\n",
    "        self.size = 0\n",
    "\n",
    "    def __begin_batch(self):\n",
    "        \"\"\"\n",
    "        Initializes the StringIO buffer for each table batch object\n",
    "        and writes the BEGIN BATCH statement.\n",
    "        \"\"\"\n",
    "        for index, buffer in enumerate(self.buffers):\n",
    "            self.buffers[index] = StringIO()\n",
    "            self.buffers[index].write(\"BEGIN BATCH\\n\")\n",
    "\n",
    "    def __commit_batch(self):\n",
    "        \"\"\"\n",
    "        Commits each table batch following the steps below:\n",
    "\n",
    "        - Writes the APPLY BATCH statement.\n",
    "        - Sets the StringIO buffer cursor to the beginning of the buffer.\n",
    "        - Executes the batch statements using Cassandra's session method.\n",
    "        - Closes the StringIO buffer.\n",
    "        - Clears the batches array.\n",
    "        - Resets the batch size counter.\n",
    "        \"\"\"\n",
    "        for buffer in self.buffers:\n",
    "            try:\n",
    "                buffer.write('APPLY BATCH;\\n')\n",
    "                buffer.seek(0)\n",
    "                self.session.execute(buffer.read())\n",
    "                buffer.close()\n",
    "            except Exception as e:\n",
    "                print(e)\n",
    "\n",
    "        self.buffers = [None] * len(self.inserts)\n",
    "        self.size = 0\n",
    "\n",
    "    def __write(self, values):\n",
    "        \"\"\"\n",
    "        Maps the data input for each table insert statement and\n",
    "        writes to the corresponding StringIO buffer.\n",
    "\n",
    "        Args:\n",
    "\n",
    "        `values`: The data input to write as a SQL insert.\n",
    "        \"\"\"\n",
    "        for index, buffer in enumerate(self.buffers):\n",
    "            buffer.write(self.inserts[index].to_sql(values))\n",
    "\n",
    "    def commit(self, close=False):\n",
    "        \"\"\"\n",
    "        This method must be called at the end of the processing\n",
    "        to commit the last batch of insert instructions.\n",
    "        Once the batch has not reached the maximum size\n",
    "        to be automatically committed by the insertion method.\n",
    "\n",
    "        Args:\n",
    "\n",
    "        `close`: If True, closes the session.\n",
    "        \"\"\"\n",
    "        self.__commit_batch()\n",
    "        if close:\n",
    "            self.session.shutdown()\n",
    "            self.session.close()\n",
    "            self.session = None\n",
    "\n",
    "    def write(self, values):\n",
    "        \"\"\"\n",
    "        Writes the data input into the the batch buffer as an insert statement.\n",
    "        If the batch size is equal to the maximum size, the batch is committed\n",
    "        and the buffer is cleared.\n",
    "\n",
    "        Args:\n",
    "\n",
    "        `values`: The data input to write as a SQL insert.\n",
    "        \"\"\"\n",
    "        if self.size == 0:\n",
    "            self.__begin_batch()\n",
    "\n",
    "        if self.size < self.max_size:\n",
    "            self.__write(values)\n",
    "            self.size += 1\n",
    "        else:\n",
    "            self.__write(values)\n",
    "            self.__commit_batch()"
   ]
  },
  {
   "cell_type": "markdown",
   "metadata": {},
   "source": [
    "#### Create the CSV to CQL values mapper function "
   ]
  },
  {
   "cell_type": "code",
   "execution_count": 139,
   "metadata": {},
   "outputs": [],
   "source": [
    "def csv_mapper(values, columns):\n",
    "    \"\"\"\n",
    "    Maps the csv data line in event_data to the table columns' values.\n",
    "\n",
    "    Args:\n",
    "\n",
    "    `values`: The csv data line in the target file.\n",
    "    \"\"\"\n",
    "    # replace the single quote char by the corresponding unicode char \n",
    "    # otherwise the insert statement will fail\n",
    "    values[0] = values[0].replace(\"'\", \"\\u2027\")\n",
    "    values[9] = values[9].replace(\"'\", \"\\u2027\")\n",
    "    \n",
    "\n",
    "    map = {\n",
    "        'artist': f\"'{values[0]}'\",\n",
    "        'firstName': f\"'{values[1]}'\",\n",
    "        'gender': f\"'{values[2]}'\",\n",
    "        'itemInSession': values[3],\n",
    "        'lastName': f\"'{values[4]}'\",\n",
    "        'length': values[5],\n",
    "        'level': f\"'{values[6]}'\",\n",
    "        'location': f\"'{values[7]}'\",\n",
    "        'sessionId': values[8],\n",
    "        'song': f\"'{values[9]}'\",\n",
    "        'userId': values[10]\n",
    "    }\n",
    "\n",
    "    return [map[column] for column in columns]"
   ]
  },
  {
   "cell_type": "markdown",
   "metadata": {},
   "source": [
    "#### Create the insert statement builder for each table"
   ]
  },
  {
   "cell_type": "code",
   "execution_count": 140,
   "metadata": {},
   "outputs": [],
   "source": [
    "# create a list of insert statement builders with all the tables\n",
    "inserts = [\n",
    "    InsertBuilder(\n",
    "        'songplayBySession',\n",
    "        ['artist', 'song', 'length', 'sessionId', 'itemInSession'],\n",
    "        csv_mapper  \n",
    "    ),\n",
    "    InsertBuilder(\n",
    "        'songplayByUser',\n",
    "        ['artist', 'song', 'firstName', 'lastName', 'userId', 'sessionId', 'itemInSession'],\n",
    "        csv_mapper\n",
    "    ),\n",
    "    InsertBuilder(\n",
    "        'songplayBySong',\n",
    "        ['song', 'sessionId', 'itemInSession', 'firstName', 'lastName'],\n",
    "        csv_mapper\n",
    "    )\n",
    "]"
   ]
  },
  {
   "cell_type": "markdown",
   "metadata": {},
   "source": [
    "#### Execute the batch insert process for all tables"
   ]
  },
  {
   "cell_type": "code",
   "execution_count": 141,
   "metadata": {
    "scrolled": false
   },
   "outputs": [],
   "source": [
    "# create a batch processing for all table inserts\n",
    "# set the maximum size of each batch\n",
    "batch = InsertBatch(session, inserts, 250)\n",
    "\n",
    "with open(targetfile, encoding='utf8') as f:\n",
    "    csvreader = csv.reader(f)\n",
    "    next(csvreader)  # skip header\n",
    "    \n",
    "    # write the csv data line into the batch buffer\n",
    "    # automatically commit if the buffer size is equal to the maximum size\n",
    "    for line in csvreader:\n",
    "        batch.write(line)\n",
    "    \n",
    "    # commit the last batch\n",
    "    batch.commit()"
   ]
  },
  {
   "cell_type": "markdown",
   "metadata": {},
   "source": [
    "#### Do a SELECT to verify that the data have been inserted into each table"
   ]
  },
  {
   "cell_type": "code",
   "execution_count": 142,
   "metadata": {
    "scrolled": true
   },
   "outputs": [
    {
     "data": {
      "text/html": [
       "<div>\n",
       "<style scoped>\n",
       "    .dataframe tbody tr th:only-of-type {\n",
       "        vertical-align: middle;\n",
       "    }\n",
       "\n",
       "    .dataframe tbody tr th {\n",
       "        vertical-align: top;\n",
       "    }\n",
       "\n",
       "    .dataframe thead th {\n",
       "        text-align: right;\n",
       "    }\n",
       "</style>\n",
       "<table border=\"1\" class=\"dataframe\">\n",
       "  <thead>\n",
       "    <tr style=\"text-align: right;\">\n",
       "      <th></th>\n",
       "      <th>artist</th>\n",
       "      <th>song</th>\n",
       "      <th>length</th>\n",
       "    </tr>\n",
       "  </thead>\n",
       "  <tbody>\n",
       "    <tr>\n",
       "      <th>0</th>\n",
       "      <td>Faithless</td>\n",
       "      <td>Music Matters (Mark Knight Dub)</td>\n",
       "      <td>495.307312</td>\n",
       "    </tr>\n",
       "  </tbody>\n",
       "</table>\n",
       "</div>"
      ],
      "text/plain": [
       "      artist                             song      length\n",
       "0  Faithless  Music Matters (Mark Knight Dub)  495.307312"
      ]
     },
     "execution_count": 142,
     "metadata": {},
     "output_type": "execute_result"
    }
   ],
   "source": [
    "# select for query 1\n",
    "try:\n",
    "    response = session.execute(select_songplay_by_session)\n",
    "except Exception as e:\n",
    "    print(e)\n",
    "\n",
    "pd.DataFrame(response.all())        "
   ]
  },
  {
   "cell_type": "code",
   "execution_count": 143,
   "metadata": {},
   "outputs": [
    {
     "data": {
      "text/html": [
       "<div>\n",
       "<style scoped>\n",
       "    .dataframe tbody tr th:only-of-type {\n",
       "        vertical-align: middle;\n",
       "    }\n",
       "\n",
       "    .dataframe tbody tr th {\n",
       "        vertical-align: top;\n",
       "    }\n",
       "\n",
       "    .dataframe thead th {\n",
       "        text-align: right;\n",
       "    }\n",
       "</style>\n",
       "<table border=\"1\" class=\"dataframe\">\n",
       "  <thead>\n",
       "    <tr style=\"text-align: right;\">\n",
       "      <th></th>\n",
       "      <th>artist</th>\n",
       "      <th>song</th>\n",
       "      <th>firstname</th>\n",
       "      <th>lastname</th>\n",
       "    </tr>\n",
       "  </thead>\n",
       "  <tbody>\n",
       "    <tr>\n",
       "      <th>0</th>\n",
       "      <td>Down To The Bone</td>\n",
       "      <td>Keep On Keepin‧ On</td>\n",
       "      <td>Sylvie</td>\n",
       "      <td>Cruz</td>\n",
       "    </tr>\n",
       "    <tr>\n",
       "      <th>1</th>\n",
       "      <td>Three Drives</td>\n",
       "      <td>Greece 2000</td>\n",
       "      <td>Sylvie</td>\n",
       "      <td>Cruz</td>\n",
       "    </tr>\n",
       "    <tr>\n",
       "      <th>2</th>\n",
       "      <td>Sebastien Tellier</td>\n",
       "      <td>Kilometer</td>\n",
       "      <td>Sylvie</td>\n",
       "      <td>Cruz</td>\n",
       "    </tr>\n",
       "    <tr>\n",
       "      <th>3</th>\n",
       "      <td>Lonnie Gordon</td>\n",
       "      <td>Catch You Baby (Steve Pitron &amp; Max Sanna Radio...</td>\n",
       "      <td>Sylvie</td>\n",
       "      <td>Cruz</td>\n",
       "    </tr>\n",
       "  </tbody>\n",
       "</table>\n",
       "</div>"
      ],
      "text/plain": [
       "              artist                                               song  \\\n",
       "0   Down To The Bone                                 Keep On Keepin‧ On   \n",
       "1       Three Drives                                        Greece 2000   \n",
       "2  Sebastien Tellier                                          Kilometer   \n",
       "3      Lonnie Gordon  Catch You Baby (Steve Pitron & Max Sanna Radio...   \n",
       "\n",
       "  firstname lastname  \n",
       "0    Sylvie     Cruz  \n",
       "1    Sylvie     Cruz  \n",
       "2    Sylvie     Cruz  \n",
       "3    Sylvie     Cruz  "
      ]
     },
     "execution_count": 143,
     "metadata": {},
     "output_type": "execute_result"
    }
   ],
   "source": [
    "# select for query 2\n",
    "try:\n",
    "    response = session.execute(select_songplay_by_user)\n",
    "except Exception as e:\n",
    "    print(e)\n",
    "\n",
    "pd.DataFrame(response.all())"
   ]
  },
  {
   "cell_type": "code",
   "execution_count": 144,
   "metadata": {},
   "outputs": [
    {
     "data": {
      "text/html": [
       "<div>\n",
       "<style scoped>\n",
       "    .dataframe tbody tr th:only-of-type {\n",
       "        vertical-align: middle;\n",
       "    }\n",
       "\n",
       "    .dataframe tbody tr th {\n",
       "        vertical-align: top;\n",
       "    }\n",
       "\n",
       "    .dataframe thead th {\n",
       "        text-align: right;\n",
       "    }\n",
       "</style>\n",
       "<table border=\"1\" class=\"dataframe\">\n",
       "  <thead>\n",
       "    <tr style=\"text-align: right;\">\n",
       "      <th></th>\n",
       "      <th>firstname</th>\n",
       "      <th>lastname</th>\n",
       "    </tr>\n",
       "  </thead>\n",
       "  <tbody>\n",
       "    <tr>\n",
       "      <th>0</th>\n",
       "      <td>Sara</td>\n",
       "      <td>Johnson</td>\n",
       "    </tr>\n",
       "    <tr>\n",
       "      <th>1</th>\n",
       "      <td>Jacqueline</td>\n",
       "      <td>Lynch</td>\n",
       "    </tr>\n",
       "    <tr>\n",
       "      <th>2</th>\n",
       "      <td>Tegan</td>\n",
       "      <td>Levine</td>\n",
       "    </tr>\n",
       "  </tbody>\n",
       "</table>\n",
       "</div>"
      ],
      "text/plain": [
       "    firstname lastname\n",
       "0        Sara  Johnson\n",
       "1  Jacqueline    Lynch\n",
       "2       Tegan   Levine"
      ]
     },
     "execution_count": 144,
     "metadata": {},
     "output_type": "execute_result"
    }
   ],
   "source": [
    "# select for query 3\n",
    "try:\n",
    "    response = session.execute(select_songplay_by_song)\n",
    "except Exception as e:\n",
    "    print(e)\n",
    "\n",
    "pd.DataFrame(response.all())                          "
   ]
  },
  {
   "cell_type": "markdown",
   "metadata": {},
   "source": [
    "### Drop the tables before closing out the sessions"
   ]
  },
  {
   "cell_type": "code",
   "execution_count": 145,
   "metadata": {},
   "outputs": [],
   "source": [
    "query = \"DROP TABLE IF EXISTS songplayBySession\"\n",
    "try:\n",
    "    session.execute(query)\n",
    "except Exception as e:\n",
    "    print(e)\n",
    "\n",
    "query = \"DROP TABLE IF EXISTS songplayByUser\"\n",
    "try:\n",
    "    session.execute(query)\n",
    "except Exception as e:\n",
    "    print(e)\n",
    "\n",
    "query = \"DROP TABLE IF EXISTS songplayBySong\"\n",
    "try:\n",
    "    session.execute(query)\n",
    "except Exception as e:\n",
    "    print(e)"
   ]
  },
  {
   "cell_type": "markdown",
   "metadata": {},
   "source": [
    "### Close the session and cluster connection"
   ]
  },
  {
   "cell_type": "code",
   "execution_count": 146,
   "metadata": {},
   "outputs": [],
   "source": [
    "session.shutdown()\n",
    "cluster.shutdown()"
   ]
  }
 ],
 "metadata": {
  "kernelspec": {
   "display_name": "Python 3.10.4 ('py310')",
   "language": "python",
   "name": "python3"
  },
  "language_info": {
   "codemirror_mode": {
    "name": "ipython",
    "version": 3
   },
   "file_extension": ".py",
   "mimetype": "text/x-python",
   "name": "python",
   "nbconvert_exporter": "python",
   "pygments_lexer": "ipython3",
   "version": "3.10.4"
  },
  "vscode": {
   "interpreter": {
    "hash": "d47df541592af340dce933e7169349dc2df4da248e87c9a46187cbe39a8376b2"
   }
  }
 },
 "nbformat": 4,
 "nbformat_minor": 2
}
